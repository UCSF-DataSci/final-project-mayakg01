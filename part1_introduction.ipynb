{
 "cells": [
  {
   "cell_type": "code",
   "execution_count": 8,
   "id": "9b33edcf",
   "metadata": {},
   "outputs": [
    {
     "name": "stdout",
     "output_type": "stream",
     "text": [
      "         City  Rank Sunshine hours(City) Cost of a bottle of water(City)  \\\n",
      "0   Amsterdam     1                 1858                           £1.92   \n",
      "1      Sydney     2                 2636                           £1.48   \n",
      "2      Vienna     3                 1884                           £1.94   \n",
      "3   Stockholm     4                 1821                           £1.72   \n",
      "4  Copenhagen     5                 1630                           £2.19   \n",
      "\n",
      "  Obesity levels(Country)  Life expectancy(years) (Country)  \\\n",
      "0                  20.40%                              81.2   \n",
      "1                  29.00%                              82.1   \n",
      "2                  20.10%                              81.0   \n",
      "3                  20.60%                              81.8   \n",
      "4                  19.70%                              79.8   \n",
      "\n",
      "  Pollution(Index score) (City) Annual avg. hours worked  \\\n",
      "0                         30.93                     1434   \n",
      "1                         26.86                     1712   \n",
      "2                         17.33                     1501   \n",
      "3                         19.63                     1452   \n",
      "4                         21.24                     1380   \n",
      "\n",
      "   Happiness levels(Country)  Outdoor activities(City)  \\\n",
      "0                       7.44                       422   \n",
      "1                       7.22                       406   \n",
      "2                       7.29                       132   \n",
      "3                       7.35                       129   \n",
      "4                       7.64                       154   \n",
      "\n",
      "   Number of take out places(City) Cost of a monthly gym membership(City)  \n",
      "0                             1048                                 £34.90  \n",
      "1                             1103                                 £41.66  \n",
      "2                             1008                                 £25.74  \n",
      "3                              598                                 £37.31  \n",
      "4                              523                                 £32.53  \n",
      "<class 'pandas.core.frame.DataFrame'>\n",
      "RangeIndex: 44 entries, 0 to 43\n",
      "Data columns (total 12 columns):\n",
      " #   Column                                  Non-Null Count  Dtype  \n",
      "---  ------                                  --------------  -----  \n",
      " 0   City                                    44 non-null     object \n",
      " 1   Rank                                    44 non-null     int64  \n",
      " 2   Sunshine hours(City)                    44 non-null     object \n",
      " 3   Cost of a bottle of water(City)         44 non-null     object \n",
      " 4   Obesity levels(Country)                 44 non-null     object \n",
      " 5   Life expectancy(years) (Country)        44 non-null     float64\n",
      " 6   Pollution(Index score) (City)           44 non-null     object \n",
      " 7   Annual avg. hours worked                44 non-null     object \n",
      " 8   Happiness levels(Country)               44 non-null     float64\n",
      " 9   Outdoor activities(City)                44 non-null     int64  \n",
      " 10  Number of take out places(City)         44 non-null     int64  \n",
      " 11  Cost of a monthly gym membership(City)  44 non-null     object \n",
      "dtypes: float64(2), int64(3), object(7)\n",
      "memory usage: 4.3+ KB\n"
     ]
    },
    {
     "data": {
      "text/html": [
       "<div>\n",
       "<style scoped>\n",
       "    .dataframe tbody tr th:only-of-type {\n",
       "        vertical-align: middle;\n",
       "    }\n",
       "\n",
       "    .dataframe tbody tr th {\n",
       "        vertical-align: top;\n",
       "    }\n",
       "\n",
       "    .dataframe thead th {\n",
       "        text-align: right;\n",
       "    }\n",
       "</style>\n",
       "<table border=\"1\" class=\"dataframe\">\n",
       "  <thead>\n",
       "    <tr style=\"text-align: right;\">\n",
       "      <th></th>\n",
       "      <th>Rank</th>\n",
       "      <th>Life expectancy(years) (Country)</th>\n",
       "      <th>Happiness levels(Country)</th>\n",
       "      <th>Outdoor activities(City)</th>\n",
       "      <th>Number of take out places(City)</th>\n",
       "    </tr>\n",
       "  </thead>\n",
       "  <tbody>\n",
       "    <tr>\n",
       "      <th>count</th>\n",
       "      <td>44.000000</td>\n",
       "      <td>44.00000</td>\n",
       "      <td>44.000000</td>\n",
       "      <td>44.000000</td>\n",
       "      <td>44.000000</td>\n",
       "    </tr>\n",
       "    <tr>\n",
       "      <th>mean</th>\n",
       "      <td>22.500000</td>\n",
       "      <td>78.17500</td>\n",
       "      <td>6.435000</td>\n",
       "      <td>213.977273</td>\n",
       "      <td>1443.113636</td>\n",
       "    </tr>\n",
       "    <tr>\n",
       "      <th>std</th>\n",
       "      <td>12.845233</td>\n",
       "      <td>5.30437</td>\n",
       "      <td>0.991202</td>\n",
       "      <td>127.190297</td>\n",
       "      <td>1388.803270</td>\n",
       "    </tr>\n",
       "    <tr>\n",
       "      <th>min</th>\n",
       "      <td>1.000000</td>\n",
       "      <td>56.30000</td>\n",
       "      <td>3.570000</td>\n",
       "      <td>23.000000</td>\n",
       "      <td>250.000000</td>\n",
       "    </tr>\n",
       "    <tr>\n",
       "      <th>25%</th>\n",
       "      <td>11.750000</td>\n",
       "      <td>75.40000</td>\n",
       "      <td>5.870000</td>\n",
       "      <td>125.250000</td>\n",
       "      <td>548.000000</td>\n",
       "    </tr>\n",
       "    <tr>\n",
       "      <th>50%</th>\n",
       "      <td>22.500000</td>\n",
       "      <td>80.40000</td>\n",
       "      <td>6.900000</td>\n",
       "      <td>189.500000</td>\n",
       "      <td>998.000000</td>\n",
       "    </tr>\n",
       "    <tr>\n",
       "      <th>75%</th>\n",
       "      <td>33.250000</td>\n",
       "      <td>81.80000</td>\n",
       "      <td>7.175000</td>\n",
       "      <td>288.250000</td>\n",
       "      <td>1674.250000</td>\n",
       "    </tr>\n",
       "    <tr>\n",
       "      <th>max</th>\n",
       "      <td>44.000000</td>\n",
       "      <td>83.20000</td>\n",
       "      <td>7.800000</td>\n",
       "      <td>585.000000</td>\n",
       "      <td>6417.000000</td>\n",
       "    </tr>\n",
       "  </tbody>\n",
       "</table>\n",
       "</div>"
      ],
      "text/plain": [
       "            Rank  Life expectancy(years) (Country)  Happiness levels(Country)  \\\n",
       "count  44.000000                          44.00000                  44.000000   \n",
       "mean   22.500000                          78.17500                   6.435000   \n",
       "std    12.845233                           5.30437                   0.991202   \n",
       "min     1.000000                          56.30000                   3.570000   \n",
       "25%    11.750000                          75.40000                   5.870000   \n",
       "50%    22.500000                          80.40000                   6.900000   \n",
       "75%    33.250000                          81.80000                   7.175000   \n",
       "max    44.000000                          83.20000                   7.800000   \n",
       "\n",
       "       Outdoor activities(City)  Number of take out places(City)  \n",
       "count                 44.000000                        44.000000  \n",
       "mean                 213.977273                      1443.113636  \n",
       "std                  127.190297                      1388.803270  \n",
       "min                   23.000000                       250.000000  \n",
       "25%                  125.250000                       548.000000  \n",
       "50%                  189.500000                       998.000000  \n",
       "75%                  288.250000                      1674.250000  \n",
       "max                  585.000000                      6417.000000  "
      ]
     },
     "execution_count": 8,
     "metadata": {},
     "output_type": "execute_result"
    }
   ],
   "source": [
    "import pandas as pd\n",
    "import numpy as np\n",
    "import matplotlib.pyplot as plt\n",
    "import seaborn as sns\n",
    "data = pd.read_csv(\"healthy_lifestyle_city_2021.csv\", quotechar='\"')\n",
    "print(data.head())\n",
    "data.info()\n",
    "data.describe()"
   ]
  },
  {
   "cell_type": "code",
   "execution_count": 9,
   "id": "99f25716",
   "metadata": {},
   "outputs": [
    {
     "name": "stdout",
     "output_type": "stream",
     "text": [
      "['Amsterdam' 'Sydney' 'Vienna' 'Stockholm' 'Copenhagen' 'Helsinki'\n",
      " 'Fukuoka' 'Berlin' 'Barcelona' 'Vancouver' 'Melbourne' 'Beijing'\n",
      " 'Bangkok' 'Buenos Aires' 'Toronto' 'Madrid' 'Jakarta' 'Seoul' 'Frankfurt'\n",
      " 'Geneva' 'Tel Aviv' 'Istanbul' 'Cairo' 'Taipei' 'Los Angeles' 'Mumbai'\n",
      " 'Boston' 'Dublin' 'Tokyo' 'Chicago' 'Hong Kong' 'Shanghai' 'Brussels'\n",
      " 'San Francisco' 'Paris' 'Sao Paulo' 'Zurich' 'London' 'Johannesburg'\n",
      " 'Milan' 'Washington, D.C.' 'New York' 'Moscow' 'Mexico City']\n"
     ]
    }
   ],
   "source": [
    "# Cleaning columns\n",
    "# Removing currency symbol from cost columns\n",
    "currency_cols = ['Cost of a bottle of water(City)', 'Cost of a monthly gym membership(City)']\n",
    "for col in currency_cols:\n",
    "    data[col] = data[col].replace(r'[^\\d\\.]', '', regex=True)\n",
    "    data[col] = pd.to_numeric(data[col], errors='coerce')\n",
    "print(data['City'].unique())\n",
    "# Clean the obesity column\n",
    "data['Obesity levels(Country)'] = data['Obesity levels(Country)'].str.replace('%', '')\n",
    "data['Obesity levels(Country)'] = pd.to_numeric(data['Obesity levels(Country)'], errors='coerce')"
   ]
  },
  {
   "cell_type": "code",
   "execution_count": null,
   "id": "49f47379",
   "metadata": {},
   "outputs": [],
   "source": [
    "# Ensuring numeric columns are in numeric format\n",
    "numeric_cols = [\n",
    "    'Sunshine hours(City)',\n",
    "    'Pollution(Index score) (City)',\n",
    "    'Annual avg. hours worked'\n",
    "]\n",
    "for col in numeric_cols:\n",
    "    data[col] = data[col].replace(r'[^\\d\\.]', '', regex=True) \n",
    "    data[col] = data[col].replace('', np.nan)    \n",
    "    data[col] = pd.to_numeric(data[col], errors='coerce') "
   ]
  },
  {
   "cell_type": "code",
   "execution_count": null,
   "id": "992fdf1e",
   "metadata": {},
   "outputs": [],
   "source": [
    "# Handling missing data\n",
    "data.replace(['', '-', ' '], np.nan, inplace=True)\n",
    "for col in data.select_dtypes(include='number').columns:\n",
    "    if data[col].isna().any():\n",
    "        data[col] = data[col].fillna(data[col].median())"
   ]
  },
  {
   "cell_type": "markdown",
   "id": "8f12b3b3",
   "metadata": {},
   "source": [
    "Target Variable: Happiness Levels (categorized)"
   ]
  },
  {
   "cell_type": "code",
   "execution_count": 12,
   "id": "35a4372f",
   "metadata": {},
   "outputs": [
    {
     "data": {
      "image/png": "[encoded data removed]",
      "text/plain": [
       "<Figure size 640x480 with 1 Axes>"
      ]
     },
     "metadata": {},
     "output_type": "display_data"
    },
    {
     "name": "stdout",
     "output_type": "stream",
     "text": [
      "happiness_level\n",
      "Low        8\n",
      "Medium    12\n",
      "High      24\n",
      "Name: count, dtype: int64\n",
      "{'High': np.int64(0), 'Low': np.int64(1), 'Medium': np.int64(2)}\n"
     ]
    }
   ],
   "source": [
    "# Categorizing happiness levels\n",
    "sns.histplot(data['Happiness levels(Country)'], kde=True)\n",
    "plt.show()\n",
    "bins = [0, 5.5, 6.5, 10]\n",
    "labels = ['Low', 'Medium', 'High']\n",
    "happiness_cat = pd.Categorical(\n",
    "    pd.cut(data['Happiness levels(Country)'], bins=[0, 5.5, 6.5, 10], labels=labels),\n",
    "    categories=labels,\n",
    "    ordered=True\n",
    ")\n",
    "data['happiness_level'] = happiness_cat\n",
    "# encoding the levels\n",
    "from sklearn.preprocessing import LabelEncoder\n",
    "le = LabelEncoder()\n",
    "data['happiness_level_labeled'] = le.fit_transform(data['happiness_level'])\n",
    "data = data.drop(['Happiness levels(Country)'], axis=1)\n",
    "\n",
    "print(data['happiness_level'].value_counts().sort_index())\n",
    "print(dict(zip(le.classes_, le.transform(le.classes_))))"
   ]
  },
  {
   "cell_type": "code",
   "execution_count": 13,
   "id": "bb7e97b8",
   "metadata": {},
   "outputs": [
    {
     "name": "stdout",
     "output_type": "stream",
     "text": [
      "City                                        object\n",
      "Rank                                         int64\n",
      "Sunshine hours(City)                       float64\n",
      "Cost of a bottle of water(City)            float64\n",
      "Obesity levels(Country)                    float64\n",
      "Life expectancy(years) (Country)           float64\n",
      "Pollution(Index score) (City)              float64\n",
      "Annual avg. hours worked                   float64\n",
      "Outdoor activities(City)                     int64\n",
      "Number of take out places(City)              int64\n",
      "Cost of a monthly gym membership(City)     float64\n",
      "happiness_level                           category\n",
      "happiness_level_labeled                      int64\n",
      "dtype: object\n",
      "City                                      0\n",
      "Rank                                      0\n",
      "Sunshine hours(City)                      0\n",
      "Cost of a bottle of water(City)           0\n",
      "Obesity levels(Country)                   0\n",
      "Life expectancy(years) (Country)          0\n",
      "Pollution(Index score) (City)             0\n",
      "Annual avg. hours worked                  0\n",
      "Outdoor activities(City)                  0\n",
      "Number of take out places(City)           0\n",
      "Cost of a monthly gym membership(City)    0\n",
      "happiness_level                           0\n",
      "happiness_level_labeled                   0\n",
      "dtype: int64\n"
     ]
    }
   ],
   "source": [
    "# Saving preprocessed data\n",
    "print(data.dtypes) \n",
    "print(data.isnull().sum())\n",
    "data.to_csv('cleaned_healthy_cities.csv', index=False)"
   ]
  }
 ],
 "metadata": {
  "kernelspec": {
   "display_name": "Python 3",
   "language": "python",
   "name": "python3"
  },
  "language_info": {
   "codemirror_mode": {
    "name": "ipython",
    "version": 3
   },
   "file_extension": ".py",
   "mimetype": "text/x-python",
   "name": "python",
   "nbconvert_exporter": "python",
   "pygments_lexer": "ipython3",
   "version": "3.12.1"
  }
 },
 "nbformat": 4,
 "nbformat_minor": 5
}
